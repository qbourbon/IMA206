{
  "nbformat": 4,
  "nbformat_minor": 0,
  "metadata": {
    "colab": {
      "provenance": []
    },
    "kernelspec": {
      "name": "python3",
      "display_name": "Python 3"
    },
    "language_info": {
      "name": "python"
    },
    "accelerator": "GPU"
  },
  "cells": [
    {
      "cell_type": "markdown",
      "metadata": {
        "id": "TdpPHz2Lp6VD"
      },
      "source": [
        "# TP Coding autoencoders and variational autoencoders in Pytorch\n",
        "\n",
        "\n",
        "Author : Alasdair Newson\n",
        "\n",
        "alasdair.newson@telecom-paris.fr\n",
        "\n",
        "## Objective:\n",
        "\n",
        "The goal of this TP is to explore autoencoders and variational autoencoders applied to a simple dataset. In this first part, we will look at an autoencoder applied to MNIST. We recall that an autoencoder is a neural network with the following general architecture:\n",
        "\n",
        "\n",
        "![AUTOENCODER](https://perso.telecom-paristech.fr/anewson/doc/images/autoencoder_illustration_2.png)\n",
        "\n",
        "The tensor $z$ in the middle of the network is called a __latent code__, and it belongs to the latent space. It is this latent space which is interesting in autoencoders (for image synthesis, editing, etc).\n",
        "\n",
        "### Your task:\n",
        "You need to add the missing parts in the code (parts between # --- START CODE HERE and # --- END CODE HERE or # FILL IN CODE)\n",
        "\n",
        "\n",
        "First of all, let's load some packages"
      ]
    },
    {
      "cell_type": "code",
      "metadata": {
        "id": "JqNeIJ8Op8Ao"
      },
      "source": [
        "import torch\n",
        "import torch.nn as nn\n",
        "import torch.nn.functional as F\n",
        "import torch.optim as optim\n",
        "from torchvision import datasets, transforms\n",
        "from torch.autograd import Variable\n",
        "from torchvision.utils import save_image\n",
        "\n",
        "import pdb\n",
        "import numpy as np\n",
        "import matplotlib.pyplot as plt\n",
        "\n",
        "def pytorch_to_numpy(x):\n",
        "  return x.detach().numpy()"
      ],
      "execution_count": null,
      "outputs": []
    },
    {
      "cell_type": "markdown",
      "metadata": {
        "id": "Hyj5dj_eui9D"
      },
      "source": [
        "First, we load the mnist dataset."
      ]
    },
    {
      "cell_type": "code",
      "metadata": {
        "id": "4YPLKlPrufSk"
      },
      "source": [
        "batch_size = 128\n",
        "\n",
        "# MNIST Dataset\n",
        "mnist_trainset = datasets.MNIST(root='./mnist_data/', train=True, transform=transforms.ToTensor(), download=True)\n",
        "mnist_testset = datasets.MNIST(root='./mnist_data/', train=False, transform=transforms.ToTensor(), download=False)\n",
        "\n",
        "#create data loader with smaller dataset size\n",
        "max_mnist_size = 1000\n",
        "mnist_trainset_reduced = torch.utils.data.random_split(mnist_trainset, [max_mnist_size, len(mnist_trainset)-max_mnist_size])[0] \n",
        "mnist_train_loader = torch.utils.data.DataLoader(mnist_trainset_reduced, batch_size=batch_size, shuffle=True,drop_last=True)\n",
        "\n",
        "# download test dataset\n",
        "max_mnist_size = 512\n",
        "mnist_testset_reduced = torch.utils.data.random_split(mnist_testset, [max_mnist_size, len(mnist_testset)-max_mnist_size])[0] \n",
        "mnist_test_loader = torch.utils.data.DataLoader(mnist_testset_reduced, batch_size=batch_size, shuffle=True,drop_last=True)\n"
      ],
      "execution_count": null,
      "outputs": []
    },
    {
      "cell_type": "code",
      "source": [
        "mnist_trainset_reduced.dataset.train_data.shape"
      ],
      "metadata": {
        "id": "r7YhlBT2PN9I",
        "colab": {
          "base_uri": "https://localhost:8080/"
        },
        "outputId": "325c596b-e7b4-40da-8ffd-df3c77c3af62"
      },
      "execution_count": null,
      "outputs": [
        {
          "output_type": "stream",
          "name": "stderr",
          "text": [
            "/usr/local/lib/python3.10/dist-packages/torchvision/datasets/mnist.py:75: UserWarning: train_data has been renamed data\n",
            "  warnings.warn(\"train_data has been renamed data\")\n"
          ]
        },
        {
          "output_type": "execute_result",
          "data": {
            "text/plain": [
              "torch.Size([60000, 28, 28])"
            ]
          },
          "metadata": {},
          "execution_count": 65
        }
      ]
    },
    {
      "cell_type": "markdown",
      "metadata": {
        "id": "t-bkK4ktwfvC"
      },
      "source": [
        "# 1 Vanilla Autoencoder\n",
        "\n",
        "Now, we define the general parameters of the autoencoder"
      ]
    },
    {
      "cell_type": "code",
      "metadata": {
        "id": "mD56EDzbvUxq"
      },
      "source": [
        "# autoencoder parameters\n",
        "n_rows = mnist_trainset_reduced.dataset.train_data.shape[1]\n",
        "n_cols = mnist_trainset_reduced.dataset.train_data.shape[2]\n",
        "n_channels = 1\n",
        "n_pixels = n_rows*n_cols\n",
        "\n",
        "img_shape = (n_rows, n_cols, n_channels)\n",
        "n_epochs = 150"
      ],
      "execution_count": null,
      "outputs": []
    },
    {
      "cell_type": "markdown",
      "metadata": {
        "id": "6jLa2-jQwxSI"
      },
      "source": [
        "Now, define the autoencoder architecture. In the first part, we will use the following MLP architecture :\n",
        "\n",
        "Encoder :\n",
        "- Flatten input\n",
        "- Dense layer, output size h_dim_1 + ReLU\n",
        "- Dense layer, output size h_dim_2 + ReLU\n",
        "- Dense layer, output size z_dim (no non-linearity)\n",
        "\n",
        "Decoder :\n",
        "- Dense layer, output size h_dim_2 + ReLU\n",
        "- Dense layer, output size h_dim_1 + ReLU\n",
        "- Dense layer, output size x_dim + Sigmoid Activation\n",
        "- Reshape, to size $28\\times 28\\times 1$\n",
        "\n",
        "For the Reshape operation, use the ```A.view(dim_1,dim_2,...)``` function, where ```A``` is your tensor."
      ]
    },
    {
      "cell_type": "code",
      "source": [
        "class AE(torch.nn.Module ):\n",
        "  def __init__(self, x_dim, h_dim1, h_dim2, z_dim,n_rows,n_cols,n_channels):\n",
        "    super(AE, self).__init__()\n",
        "\n",
        "    self.n_rows = n_rows\n",
        "    self.n_cols = n_cols\n",
        "    self.n_channels = n_channels\n",
        "    self.n_pixels = (self.n_rows)*(self.n_cols)\n",
        "    self.z_dim = z_dim\n",
        "\n",
        "    # encoder part\n",
        "    self.fc1 = nn.Linear(x_dim, h_dim1) # FILL IN CODE HERE\n",
        "    self.fc2 = nn.Linear(h_dim1, h_dim2) # FILL IN CODE HERE\n",
        "    self.fc3 = nn.Linear(h_dim2, z_dim) # FILL IN CODE HERE\n",
        "    # decoder part\n",
        "    self.fc4 = nn.Linear(z_dim, h_dim2) # FILL IN CODE HERE\n",
        "    self.fc5 = nn.Linear(h_dim2, h_dim1) # FILL IN CODE HERE\n",
        "    self.fc6 = nn.Linear(h_dim1, x_dim) # FILL IN CODE HERE\n",
        "\n",
        "    self.relu = F.relu\n",
        "    self.sigmoid = F.sigmoid\n",
        "\n",
        "  def encoder(self, x):\n",
        "    x = x.view(-1, self.n_pixels)\n",
        "    h = self.relu(self.fc1(x))\n",
        "    h = self.relu(self.fc2(h))\n",
        "    h = self.fc3(h) \n",
        "    return h \n",
        "  def decoder(self, z):\n",
        "    h = self.relu(self.fc4(z))\n",
        "    h = self.relu(self.fc5(h))\n",
        "    h = self.sigmoid(self.fc6(h))\n",
        "    h = h.view(-1, 1, self.n_rows, self.n_cols)\n",
        "    return h \n",
        "  def forward(self, x):\n",
        "    y = self.decoder(self.encoder(x)) # FILL IN CODE HERE\n",
        "    return(y)\n",
        "  def loss_function(self,x, y):\n",
        "    bce_loss = nn.BCELoss()(y, x) # FILL IN CODE HERE\n",
        "    return torch.mean(bce_loss)"
      ],
      "metadata": {
        "id": "tEuZfnUlXxMl"
      },
      "execution_count": null,
      "outputs": []
    },
    {
      "cell_type": "code",
      "source": [
        "# create model\n",
        "ae_dim_1 = 512\n",
        "ae_dim_2 = 256\n",
        "z_dim = 10\n",
        "ae_model = AE(x_dim=n_pixels, h_dim1= ae_dim_1, h_dim2=ae_dim_2, z_dim=z_dim,n_rows=n_rows,n_cols=n_cols,n_channels=n_channels)\n",
        "ae_optimizer = optim.Adam(ae_model.parameters())"
      ],
      "metadata": {
        "id": "oV40vRMQRoG1"
      },
      "execution_count": null,
      "outputs": []
    },
    {
      "cell_type": "markdown",
      "metadata": {
        "id": "-659aM36xvXX"
      },
      "source": [
        "Now, define a generic function to train the model for one epoch"
      ]
    },
    {
      "cell_type": "code",
      "metadata": {
        "id": "wfqX6Brlxjyi"
      },
      "source": [
        "def train_ae(ae_model,data_train_loader,epoch):\n",
        "\ttrain_loss = 0\n",
        "\tfor batch_idx, (data, _) in enumerate(data_train_loader):\n",
        "\t\tae_optimizer.zero_grad()\n",
        "\t\t\n",
        "\t\ty = ae_model(data) # FILL IN CODE HERE\n",
        "\t\tloss_ae = ae_model.loss_function(data, y) # FILL IN CODE HERE\n",
        "  \n",
        "\t\tloss_ae.backward()\n",
        "\t\ttrain_loss += loss_ae.item()\n",
        "\t\tae_optimizer.step()\n",
        "\t\t\n",
        "\t\tif batch_idx % 100 == 0:\n",
        "\t\t\tprint('Train Epoch: {} [{}/{} ({:.0f}%)]\\tLoss: {:.6f}'.format(\n",
        "\t\t\t\tepoch, batch_idx * len(data), len(data_train_loader.dataset),\n",
        "\t\t\t\t100. * batch_idx / len(data_train_loader), loss_ae.item() / len(data)))\n",
        "\tprint('====> Epoch: {} Average loss: {:.4f}'.format(epoch, train_loss / len(data_train_loader.dataset)))\n"
      ],
      "execution_count": null,
      "outputs": []
    },
    {
      "cell_type": "markdown",
      "metadata": {
        "id": "w3EbmswSzJdK"
      },
      "source": [
        "We define a function to carry out testing on the autoencoder model"
      ]
    },
    {
      "cell_type": "code",
      "source": [
        "for epoch in range(0, n_epochs):\n",
        "  train_ae(ae_model,mnist_train_loader,epoch)"
      ],
      "metadata": {
        "id": "11q_0PSibZk-",
        "colab": {
          "base_uri": "https://localhost:8080/"
        },
        "outputId": "abbf91d4-f333-4fc5-930f-4c2ba9a8b2bb"
      },
      "execution_count": null,
      "outputs": [
        {
          "output_type": "stream",
          "name": "stdout",
          "text": [
            "Train Epoch: 0 [0/1000 (0%)]\tLoss: 0.005418\n",
            "====> Epoch: 0 Average loss: 0.0043\n",
            "Train Epoch: 1 [0/1000 (0%)]\tLoss: 0.003119\n",
            "====> Epoch: 1 Average loss: 0.0023\n",
            "Train Epoch: 2 [0/1000 (0%)]\tLoss: 0.002278\n",
            "====> Epoch: 2 Average loss: 0.0020\n",
            "Train Epoch: 3 [0/1000 (0%)]\tLoss: 0.002161\n",
            "====> Epoch: 3 Average loss: 0.0019\n",
            "Train Epoch: 4 [0/1000 (0%)]\tLoss: 0.002045\n",
            "====> Epoch: 4 Average loss: 0.0019\n",
            "Train Epoch: 5 [0/1000 (0%)]\tLoss: 0.002060\n",
            "====> Epoch: 5 Average loss: 0.0018\n",
            "Train Epoch: 6 [0/1000 (0%)]\tLoss: 0.002012\n",
            "====> Epoch: 6 Average loss: 0.0018\n",
            "Train Epoch: 7 [0/1000 (0%)]\tLoss: 0.001969\n",
            "====> Epoch: 7 Average loss: 0.0018\n",
            "Train Epoch: 8 [0/1000 (0%)]\tLoss: 0.001998\n",
            "====> Epoch: 8 Average loss: 0.0018\n",
            "Train Epoch: 9 [0/1000 (0%)]\tLoss: 0.001940\n",
            "====> Epoch: 9 Average loss: 0.0018\n",
            "Train Epoch: 10 [0/1000 (0%)]\tLoss: 0.001872\n",
            "====> Epoch: 10 Average loss: 0.0017\n",
            "Train Epoch: 11 [0/1000 (0%)]\tLoss: 0.001901\n",
            "====> Epoch: 11 Average loss: 0.0017\n",
            "Train Epoch: 12 [0/1000 (0%)]\tLoss: 0.001851\n",
            "====> Epoch: 12 Average loss: 0.0016\n",
            "Train Epoch: 13 [0/1000 (0%)]\tLoss: 0.001802\n",
            "====> Epoch: 13 Average loss: 0.0016\n",
            "Train Epoch: 14 [0/1000 (0%)]\tLoss: 0.001802\n",
            "====> Epoch: 14 Average loss: 0.0015\n",
            "Train Epoch: 15 [0/1000 (0%)]\tLoss: 0.001652\n",
            "====> Epoch: 15 Average loss: 0.0015\n",
            "Train Epoch: 16 [0/1000 (0%)]\tLoss: 0.001614\n",
            "====> Epoch: 16 Average loss: 0.0015\n",
            "Train Epoch: 17 [0/1000 (0%)]\tLoss: 0.001606\n",
            "====> Epoch: 17 Average loss: 0.0014\n",
            "Train Epoch: 18 [0/1000 (0%)]\tLoss: 0.001556\n",
            "====> Epoch: 18 Average loss: 0.0014\n",
            "Train Epoch: 19 [0/1000 (0%)]\tLoss: 0.001531\n",
            "====> Epoch: 19 Average loss: 0.0013\n",
            "Train Epoch: 20 [0/1000 (0%)]\tLoss: 0.001488\n",
            "====> Epoch: 20 Average loss: 0.0013\n",
            "Train Epoch: 21 [0/1000 (0%)]\tLoss: 0.001370\n",
            "====> Epoch: 21 Average loss: 0.0012\n",
            "Train Epoch: 22 [0/1000 (0%)]\tLoss: 0.001337\n",
            "====> Epoch: 22 Average loss: 0.0012\n",
            "Train Epoch: 23 [0/1000 (0%)]\tLoss: 0.001340\n",
            "====> Epoch: 23 Average loss: 0.0012\n",
            "Train Epoch: 24 [0/1000 (0%)]\tLoss: 0.001374\n",
            "====> Epoch: 24 Average loss: 0.0012\n",
            "Train Epoch: 25 [0/1000 (0%)]\tLoss: 0.001294\n",
            "====> Epoch: 25 Average loss: 0.0011\n",
            "Train Epoch: 26 [0/1000 (0%)]\tLoss: 0.001242\n",
            "====> Epoch: 26 Average loss: 0.0011\n",
            "Train Epoch: 27 [0/1000 (0%)]\tLoss: 0.001180\n",
            "====> Epoch: 27 Average loss: 0.0011\n",
            "Train Epoch: 28 [0/1000 (0%)]\tLoss: 0.001263\n",
            "====> Epoch: 28 Average loss: 0.0011\n",
            "Train Epoch: 29 [0/1000 (0%)]\tLoss: 0.001172\n",
            "====> Epoch: 29 Average loss: 0.0011\n",
            "Train Epoch: 30 [0/1000 (0%)]\tLoss: 0.001170\n",
            "====> Epoch: 30 Average loss: 0.0011\n",
            "Train Epoch: 31 [0/1000 (0%)]\tLoss: 0.001060\n",
            "====> Epoch: 31 Average loss: 0.0010\n",
            "Train Epoch: 32 [0/1000 (0%)]\tLoss: 0.001137\n",
            "====> Epoch: 32 Average loss: 0.0010\n",
            "Train Epoch: 33 [0/1000 (0%)]\tLoss: 0.001137\n",
            "====> Epoch: 33 Average loss: 0.0010\n",
            "Train Epoch: 34 [0/1000 (0%)]\tLoss: 0.001105\n",
            "====> Epoch: 34 Average loss: 0.0010\n",
            "Train Epoch: 35 [0/1000 (0%)]\tLoss: 0.001104\n",
            "====> Epoch: 35 Average loss: 0.0010\n",
            "Train Epoch: 36 [0/1000 (0%)]\tLoss: 0.001074\n",
            "====> Epoch: 36 Average loss: 0.0010\n",
            "Train Epoch: 37 [0/1000 (0%)]\tLoss: 0.001125\n",
            "====> Epoch: 37 Average loss: 0.0010\n",
            "Train Epoch: 38 [0/1000 (0%)]\tLoss: 0.001079\n",
            "====> Epoch: 38 Average loss: 0.0010\n",
            "Train Epoch: 39 [0/1000 (0%)]\tLoss: 0.001041\n",
            "====> Epoch: 39 Average loss: 0.0009\n",
            "Train Epoch: 40 [0/1000 (0%)]\tLoss: 0.001044\n",
            "====> Epoch: 40 Average loss: 0.0009\n",
            "Train Epoch: 41 [0/1000 (0%)]\tLoss: 0.001032\n",
            "====> Epoch: 41 Average loss: 0.0009\n",
            "Train Epoch: 42 [0/1000 (0%)]\tLoss: 0.001003\n",
            "====> Epoch: 42 Average loss: 0.0009\n",
            "Train Epoch: 43 [0/1000 (0%)]\tLoss: 0.001066\n",
            "====> Epoch: 43 Average loss: 0.0009\n",
            "Train Epoch: 44 [0/1000 (0%)]\tLoss: 0.000990\n",
            "====> Epoch: 44 Average loss: 0.0009\n",
            "Train Epoch: 45 [0/1000 (0%)]\tLoss: 0.000983\n",
            "====> Epoch: 45 Average loss: 0.0009\n",
            "Train Epoch: 46 [0/1000 (0%)]\tLoss: 0.001000\n",
            "====> Epoch: 46 Average loss: 0.0009\n",
            "Train Epoch: 47 [0/1000 (0%)]\tLoss: 0.000955\n",
            "====> Epoch: 47 Average loss: 0.0009\n",
            "Train Epoch: 48 [0/1000 (0%)]\tLoss: 0.001004\n",
            "====> Epoch: 48 Average loss: 0.0009\n",
            "Train Epoch: 49 [0/1000 (0%)]\tLoss: 0.000977\n",
            "====> Epoch: 49 Average loss: 0.0009\n",
            "Train Epoch: 50 [0/1000 (0%)]\tLoss: 0.000931\n",
            "====> Epoch: 50 Average loss: 0.0009\n",
            "Train Epoch: 51 [0/1000 (0%)]\tLoss: 0.000969\n",
            "====> Epoch: 51 Average loss: 0.0008\n",
            "Train Epoch: 52 [0/1000 (0%)]\tLoss: 0.000968\n",
            "====> Epoch: 52 Average loss: 0.0008\n",
            "Train Epoch: 53 [0/1000 (0%)]\tLoss: 0.000918\n",
            "====> Epoch: 53 Average loss: 0.0008\n",
            "Train Epoch: 54 [0/1000 (0%)]\tLoss: 0.000915\n",
            "====> Epoch: 54 Average loss: 0.0008\n",
            "Train Epoch: 55 [0/1000 (0%)]\tLoss: 0.000907\n",
            "====> Epoch: 55 Average loss: 0.0008\n",
            "Train Epoch: 56 [0/1000 (0%)]\tLoss: 0.000899\n",
            "====> Epoch: 56 Average loss: 0.0008\n",
            "Train Epoch: 57 [0/1000 (0%)]\tLoss: 0.000963\n",
            "====> Epoch: 57 Average loss: 0.0008\n",
            "Train Epoch: 58 [0/1000 (0%)]\tLoss: 0.000924\n",
            "====> Epoch: 58 Average loss: 0.0008\n",
            "Train Epoch: 59 [0/1000 (0%)]\tLoss: 0.000908\n",
            "====> Epoch: 59 Average loss: 0.0008\n",
            "Train Epoch: 60 [0/1000 (0%)]\tLoss: 0.000878\n",
            "====> Epoch: 60 Average loss: 0.0008\n",
            "Train Epoch: 61 [0/1000 (0%)]\tLoss: 0.000925\n",
            "====> Epoch: 61 Average loss: 0.0008\n",
            "Train Epoch: 62 [0/1000 (0%)]\tLoss: 0.000889\n",
            "====> Epoch: 62 Average loss: 0.0008\n",
            "Train Epoch: 63 [0/1000 (0%)]\tLoss: 0.000862\n",
            "====> Epoch: 63 Average loss: 0.0008\n",
            "Train Epoch: 64 [0/1000 (0%)]\tLoss: 0.000874\n",
            "====> Epoch: 64 Average loss: 0.0008\n",
            "Train Epoch: 65 [0/1000 (0%)]\tLoss: 0.000844\n",
            "====> Epoch: 65 Average loss: 0.0008\n",
            "Train Epoch: 66 [0/1000 (0%)]\tLoss: 0.000832\n",
            "====> Epoch: 66 Average loss: 0.0008\n",
            "Train Epoch: 67 [0/1000 (0%)]\tLoss: 0.000882\n",
            "====> Epoch: 67 Average loss: 0.0008\n",
            "Train Epoch: 68 [0/1000 (0%)]\tLoss: 0.000872\n",
            "====> Epoch: 68 Average loss: 0.0008\n",
            "Train Epoch: 69 [0/1000 (0%)]\tLoss: 0.000869\n",
            "====> Epoch: 69 Average loss: 0.0008\n",
            "Train Epoch: 70 [0/1000 (0%)]\tLoss: 0.000818\n",
            "====> Epoch: 70 Average loss: 0.0008\n",
            "Train Epoch: 71 [0/1000 (0%)]\tLoss: 0.000857\n",
            "====> Epoch: 71 Average loss: 0.0008\n",
            "Train Epoch: 72 [0/1000 (0%)]\tLoss: 0.000804\n",
            "====> Epoch: 72 Average loss: 0.0007\n",
            "Train Epoch: 73 [0/1000 (0%)]\tLoss: 0.000818\n",
            "====> Epoch: 73 Average loss: 0.0007\n",
            "Train Epoch: 74 [0/1000 (0%)]\tLoss: 0.000841\n",
            "====> Epoch: 74 Average loss: 0.0007\n",
            "Train Epoch: 75 [0/1000 (0%)]\tLoss: 0.000779\n",
            "====> Epoch: 75 Average loss: 0.0007\n",
            "Train Epoch: 76 [0/1000 (0%)]\tLoss: 0.000830\n",
            "====> Epoch: 76 Average loss: 0.0007\n",
            "Train Epoch: 77 [0/1000 (0%)]\tLoss: 0.000849\n",
            "====> Epoch: 77 Average loss: 0.0007\n",
            "Train Epoch: 78 [0/1000 (0%)]\tLoss: 0.000795\n",
            "====> Epoch: 78 Average loss: 0.0007\n",
            "Train Epoch: 79 [0/1000 (0%)]\tLoss: 0.000838\n",
            "====> Epoch: 79 Average loss: 0.0007\n",
            "Train Epoch: 80 [0/1000 (0%)]\tLoss: 0.000825\n",
            "====> Epoch: 80 Average loss: 0.0007\n",
            "Train Epoch: 81 [0/1000 (0%)]\tLoss: 0.000795\n",
            "====> Epoch: 81 Average loss: 0.0007\n",
            "Train Epoch: 82 [0/1000 (0%)]\tLoss: 0.000819\n",
            "====> Epoch: 82 Average loss: 0.0007\n",
            "Train Epoch: 83 [0/1000 (0%)]\tLoss: 0.000747\n",
            "====> Epoch: 83 Average loss: 0.0007\n",
            "Train Epoch: 84 [0/1000 (0%)]\tLoss: 0.000772\n",
            "====> Epoch: 84 Average loss: 0.0007\n",
            "Train Epoch: 85 [0/1000 (0%)]\tLoss: 0.000752\n",
            "====> Epoch: 85 Average loss: 0.0007\n",
            "Train Epoch: 86 [0/1000 (0%)]\tLoss: 0.000770\n",
            "====> Epoch: 86 Average loss: 0.0007\n",
            "Train Epoch: 87 [0/1000 (0%)]\tLoss: 0.000762\n",
            "====> Epoch: 87 Average loss: 0.0007\n",
            "Train Epoch: 88 [0/1000 (0%)]\tLoss: 0.000763\n",
            "====> Epoch: 88 Average loss: 0.0007\n",
            "Train Epoch: 89 [0/1000 (0%)]\tLoss: 0.000754\n",
            "====> Epoch: 89 Average loss: 0.0007\n",
            "Train Epoch: 90 [0/1000 (0%)]\tLoss: 0.000780\n",
            "====> Epoch: 90 Average loss: 0.0007\n",
            "Train Epoch: 91 [0/1000 (0%)]\tLoss: 0.000764\n",
            "====> Epoch: 91 Average loss: 0.0007\n",
            "Train Epoch: 92 [0/1000 (0%)]\tLoss: 0.000772\n",
            "====> Epoch: 92 Average loss: 0.0007\n",
            "Train Epoch: 93 [0/1000 (0%)]\tLoss: 0.000772\n",
            "====> Epoch: 93 Average loss: 0.0007\n",
            "Train Epoch: 94 [0/1000 (0%)]\tLoss: 0.000785\n",
            "====> Epoch: 94 Average loss: 0.0007\n",
            "Train Epoch: 95 [0/1000 (0%)]\tLoss: 0.000734\n",
            "====> Epoch: 95 Average loss: 0.0007\n",
            "Train Epoch: 96 [0/1000 (0%)]\tLoss: 0.000736\n",
            "====> Epoch: 96 Average loss: 0.0007\n",
            "Train Epoch: 97 [0/1000 (0%)]\tLoss: 0.000732\n",
            "====> Epoch: 97 Average loss: 0.0007\n",
            "Train Epoch: 98 [0/1000 (0%)]\tLoss: 0.000749\n",
            "====> Epoch: 98 Average loss: 0.0007\n",
            "Train Epoch: 99 [0/1000 (0%)]\tLoss: 0.000751\n",
            "====> Epoch: 99 Average loss: 0.0007\n",
            "Train Epoch: 100 [0/1000 (0%)]\tLoss: 0.000731\n",
            "====> Epoch: 100 Average loss: 0.0007\n",
            "Train Epoch: 101 [0/1000 (0%)]\tLoss: 0.000744\n",
            "====> Epoch: 101 Average loss: 0.0007\n",
            "Train Epoch: 102 [0/1000 (0%)]\tLoss: 0.000714\n",
            "====> Epoch: 102 Average loss: 0.0007\n",
            "Train Epoch: 103 [0/1000 (0%)]\tLoss: 0.000726\n",
            "====> Epoch: 103 Average loss: 0.0006\n",
            "Train Epoch: 104 [0/1000 (0%)]\tLoss: 0.000714\n",
            "====> Epoch: 104 Average loss: 0.0006\n",
            "Train Epoch: 105 [0/1000 (0%)]\tLoss: 0.000695\n",
            "====> Epoch: 105 Average loss: 0.0006\n",
            "Train Epoch: 106 [0/1000 (0%)]\tLoss: 0.000694\n",
            "====> Epoch: 106 Average loss: 0.0006\n",
            "Train Epoch: 107 [0/1000 (0%)]\tLoss: 0.000707\n",
            "====> Epoch: 107 Average loss: 0.0006\n",
            "Train Epoch: 108 [0/1000 (0%)]\tLoss: 0.000729\n",
            "====> Epoch: 108 Average loss: 0.0006\n",
            "Train Epoch: 109 [0/1000 (0%)]\tLoss: 0.000731\n",
            "====> Epoch: 109 Average loss: 0.0006\n",
            "Train Epoch: 110 [0/1000 (0%)]\tLoss: 0.000712\n",
            "====> Epoch: 110 Average loss: 0.0006\n",
            "Train Epoch: 111 [0/1000 (0%)]\tLoss: 0.000722\n",
            "====> Epoch: 111 Average loss: 0.0006\n",
            "Train Epoch: 112 [0/1000 (0%)]\tLoss: 0.000719\n",
            "====> Epoch: 112 Average loss: 0.0006\n",
            "Train Epoch: 113 [0/1000 (0%)]\tLoss: 0.000692\n",
            "====> Epoch: 113 Average loss: 0.0006\n",
            "Train Epoch: 114 [0/1000 (0%)]\tLoss: 0.000676\n",
            "====> Epoch: 114 Average loss: 0.0006\n",
            "Train Epoch: 115 [0/1000 (0%)]\tLoss: 0.000670\n",
            "====> Epoch: 115 Average loss: 0.0006\n",
            "Train Epoch: 116 [0/1000 (0%)]\tLoss: 0.000703\n",
            "====> Epoch: 116 Average loss: 0.0006\n",
            "Train Epoch: 117 [0/1000 (0%)]\tLoss: 0.000680\n",
            "====> Epoch: 117 Average loss: 0.0006\n",
            "Train Epoch: 118 [0/1000 (0%)]\tLoss: 0.000690\n",
            "====> Epoch: 118 Average loss: 0.0006\n",
            "Train Epoch: 119 [0/1000 (0%)]\tLoss: 0.000686\n",
            "====> Epoch: 119 Average loss: 0.0006\n",
            "Train Epoch: 120 [0/1000 (0%)]\tLoss: 0.000675\n",
            "====> Epoch: 120 Average loss: 0.0006\n",
            "Train Epoch: 121 [0/1000 (0%)]\tLoss: 0.000680\n",
            "====> Epoch: 121 Average loss: 0.0006\n",
            "Train Epoch: 122 [0/1000 (0%)]\tLoss: 0.000672\n",
            "====> Epoch: 122 Average loss: 0.0006\n",
            "Train Epoch: 123 [0/1000 (0%)]\tLoss: 0.000691\n",
            "====> Epoch: 123 Average loss: 0.0006\n",
            "Train Epoch: 124 [0/1000 (0%)]\tLoss: 0.000686\n",
            "====> Epoch: 124 Average loss: 0.0006\n",
            "Train Epoch: 125 [0/1000 (0%)]\tLoss: 0.000661\n",
            "====> Epoch: 125 Average loss: 0.0006\n",
            "Train Epoch: 126 [0/1000 (0%)]\tLoss: 0.000670\n",
            "====> Epoch: 126 Average loss: 0.0006\n",
            "Train Epoch: 127 [0/1000 (0%)]\tLoss: 0.000686\n",
            "====> Epoch: 127 Average loss: 0.0006\n",
            "Train Epoch: 128 [0/1000 (0%)]\tLoss: 0.000667\n",
            "====> Epoch: 128 Average loss: 0.0006\n",
            "Train Epoch: 129 [0/1000 (0%)]\tLoss: 0.000664\n",
            "====> Epoch: 129 Average loss: 0.0006\n",
            "Train Epoch: 130 [0/1000 (0%)]\tLoss: 0.000663\n",
            "====> Epoch: 130 Average loss: 0.0006\n",
            "Train Epoch: 131 [0/1000 (0%)]\tLoss: 0.000662\n",
            "====> Epoch: 131 Average loss: 0.0006\n",
            "Train Epoch: 132 [0/1000 (0%)]\tLoss: 0.000669\n",
            "====> Epoch: 132 Average loss: 0.0006\n",
            "Train Epoch: 133 [0/1000 (0%)]\tLoss: 0.000648\n",
            "====> Epoch: 133 Average loss: 0.0006\n",
            "Train Epoch: 134 [0/1000 (0%)]\tLoss: 0.000642\n",
            "====> Epoch: 134 Average loss: 0.0006\n",
            "Train Epoch: 135 [0/1000 (0%)]\tLoss: 0.000641\n",
            "====> Epoch: 135 Average loss: 0.0006\n",
            "Train Epoch: 136 [0/1000 (0%)]\tLoss: 0.000667\n",
            "====> Epoch: 136 Average loss: 0.0006\n",
            "Train Epoch: 137 [0/1000 (0%)]\tLoss: 0.000676\n",
            "====> Epoch: 137 Average loss: 0.0006\n",
            "Train Epoch: 138 [0/1000 (0%)]\tLoss: 0.000663\n",
            "====> Epoch: 138 Average loss: 0.0006\n",
            "Train Epoch: 139 [0/1000 (0%)]\tLoss: 0.000651\n",
            "====> Epoch: 139 Average loss: 0.0006\n",
            "Train Epoch: 140 [0/1000 (0%)]\tLoss: 0.000656\n",
            "====> Epoch: 140 Average loss: 0.0006\n",
            "Train Epoch: 141 [0/1000 (0%)]\tLoss: 0.000655\n",
            "====> Epoch: 141 Average loss: 0.0006\n",
            "Train Epoch: 142 [0/1000 (0%)]\tLoss: 0.000630\n",
            "====> Epoch: 142 Average loss: 0.0006\n",
            "Train Epoch: 143 [0/1000 (0%)]\tLoss: 0.000654\n",
            "====> Epoch: 143 Average loss: 0.0006\n",
            "Train Epoch: 144 [0/1000 (0%)]\tLoss: 0.000632\n",
            "====> Epoch: 144 Average loss: 0.0006\n",
            "Train Epoch: 145 [0/1000 (0%)]\tLoss: 0.000621\n",
            "====> Epoch: 145 Average loss: 0.0006\n",
            "Train Epoch: 146 [0/1000 (0%)]\tLoss: 0.000635\n",
            "====> Epoch: 146 Average loss: 0.0006\n",
            "Train Epoch: 147 [0/1000 (0%)]\tLoss: 0.000601\n",
            "====> Epoch: 147 Average loss: 0.0006\n",
            "Train Epoch: 148 [0/1000 (0%)]\tLoss: 0.000647\n",
            "====> Epoch: 148 Average loss: 0.0006\n",
            "Train Epoch: 149 [0/1000 (0%)]\tLoss: 0.000639\n",
            "====> Epoch: 149 Average loss: 0.0006\n"
          ]
        }
      ]
    },
    {
      "cell_type": "code",
      "metadata": {
        "id": "T8jXjdRyzMy2"
      },
      "source": [
        "def display_images(imgs):\n",
        "  \n",
        "  r = 1\n",
        "  c = imgs.shape[0]\n",
        "  fig, axs = plt.subplots(r, c)\n",
        "  for j in range(c):\n",
        "    #black and white images\n",
        "    axs[j].imshow(pytorch_to_numpy(imgs[j, 0,:,:]), cmap='gray')\n",
        "    axs[j].axis('off')\n",
        "  plt.show()\n",
        "\n",
        "def display_ae_images(ae_model, test_imgs):\n",
        "  n_images = 5\n",
        "  idx = np.random.randint(0, test_imgs.shape[0], n_images)\n",
        "  test_imgs = test_imgs[idx,:,:,:]\n",
        "  print(test_imgs.shape)\n",
        "\n",
        "  #get output images\n",
        "  output_imgs = pytorch_to_numpy(ae_model.forward( test_imgs ))\n",
        "  print(output_imgs.shape)\n",
        "  \n",
        "  r = 2\n",
        "  c = n_images\n",
        "  fig, axs = plt.subplots(r, c)\n",
        "  for j in range(c):\n",
        "    #black and white images\n",
        "    axs[0,j].imshow(test_imgs[j, 0,:,:], cmap='gray')\n",
        "    axs[0,j].axis('off')\n",
        "    axs[1,j].imshow(output_imgs[j, 0,:,:], cmap='gray')\n",
        "    axs[1,j].axis('off')\n",
        "  plt.show()"
      ],
      "execution_count": null,
      "outputs": []
    },
    {
      "cell_type": "code",
      "source": [
        "test_imgs = next(iter(mnist_train_loader))[0]\n",
        "display_ae_images(ae_model, test_imgs)"
      ],
      "metadata": {
        "id": "9pbXch29d68D",
        "colab": {
          "base_uri": "https://localhost:8080/",
          "height": 359
        },
        "outputId": "1135998b-53c7-443a-9d2a-4574ab7d71e9"
      },
      "execution_count": null,
      "outputs": [
        {
          "output_type": "stream",
          "name": "stdout",
          "text": [
            "torch.Size([5, 1, 28, 28])\n",
            "(5, 1, 28, 28)\n"
          ]
        },
        {
          "output_type": "display_data",
          "data": {
            "text/plain": [
              "<Figure size 640x480 with 10 Axes>"
            ],
            "image/png": "[encoded data removed]"
          },
          "metadata": {}
        }
      ]
    },
    {
      "cell_type": "markdown",
      "source": [
        "__Question__ Are you satisfied with the results, do they look good ?"
      ],
      "metadata": {
        "id": "assPaJqB5sa-"
      }
    },
    {
      "cell_type": "markdown",
      "source": [
        "__Answer__\n",
        "\n",
        "The results are super clean ! Only a little blur appears with the reconstruction."
      ],
      "metadata": {
        "id": "Q7uoWa4O5x8R"
      }
    },
    {
      "cell_type": "markdown",
      "metadata": {
        "id": "zO9ATQEiyr3b"
      },
      "source": [
        "## 2/ Two simple generative models\n",
        "\n",
        "In this section, we consider two naïve approaches to creating generative models. The general idea is the following:\n",
        "\n",
        "- train an autoencoder\n",
        "- estimate different statistics (average, variance) of the data in the latent space\n",
        "- using these statistics, define a model based on a Gaussian distribution\n",
        "- generate data with this distribution\n",
        "\n",
        "We will consider these two situations :\n",
        "\n",
        "- a multivariate Gaussian distribution with __diagonal covariance matrix__ (each latent component is an independent random variable). This requires the average and variance in each latent component\n",
        "- a multivariate Gaussian distribution with __non-diagonal covariance matrix__. This requires the average and covariance matrix of the latent components\n",
        "\n",
        "Obviously, since this is done _a posteriori_ after training the autoencoder, there is nothing which guarantees that the latent codes do indeed follow a Gaussian distribution. Our goal will be to verify that Variational Autoencoders indeed produce better results than such naïve approaches."
      ]
    },
    {
      "cell_type": "markdown",
      "source": [
        "## 2.0 Defining and generating random Gaussian latent codes\n",
        "\n",
        "Let $z$ be a latent code and $d$ the dimension of the latent space (called ``z_dim`` in the code). We suppose that the $z$'s follow a multivariate Gaussian distribution, written as:\n",
        "\n",
        "\\begin{equation}\n",
        "z \\sim \\mathcal{N}\\left(\n",
        "\\mu,\n",
        "\\bf{C}\n",
        "\\right),\n",
        "\\end{equation}\n",
        "where $\\mu$ and $\\bf{C}$ are the average vector and covariance matrix of the Gaussian distribution. To define such a generative model, we must therefore determine $\\mu$ and $\\bf{C}$. Once this is done, we can generate a random Gaussian latent code in the following manner:\n",
        "\n",
        "\\begin{equation}\n",
        "z = \\mu + {\\bf{L}} \\varepsilon,\n",
        "\\end{equation}\n",
        "where $\\varepsilon$ is a random vector drawn from a multivariate normal distribution ($\\mu=0$ and ${\\bf{C}} = \\text{Id}$), and $\\bf{L}$ is the Cholesky decomposition of the positive semi-definite covariance matrix. In other words:\n",
        "\n",
        "\\begin{equation}\n",
        "{\\bf{C}} = {\\bf{L}}{\\bf{L}^T}.\n",
        "\\end{equation}\n",
        "\n",
        "This gives a simple method of producing a multivariate Gaussian random variable."
      ],
      "metadata": {
        "id": "x2M1-BRmf56d"
      }
    },
    {
      "cell_type": "markdown",
      "source": [
        "## 2.1/ A Gaussian model with diagonal covariance\n",
        "\n",
        "The first naïve model is  defined in this first case as:\n",
        "\n",
        "- $\\bf{\\mu}=\\left[\\mu_0, \\mu_1, \\cdots, \\mu_{d-1}\\right]^T$\n",
        "- $\n",
        "  \\bf{C} = \\begin{pmatrix}\n",
        "\\sigma_0^2 & 0 & \\cdots & 0 \\\\\n",
        "0 & \\sigma_1^2 & \\cdots & 0 \\\\\n",
        "\\vdots & \\ddots & \\ddots & \\vdots \\\\\n",
        "0 & 0 & \\cdots & \\sigma_{d-1}^2\n",
        "\\end{pmatrix}$\n",
        "\n",
        "In this situation, therefore, the matrix $\\bf{L}$ can be calculated quite simply, as:\n",
        "- $\n",
        "  \\bf{L} = \\begin{pmatrix}\n",
        "\\sigma_0 & 0 & \\cdots & 0 \\\\\n",
        "0 & \\sigma_1 & \\cdots & 0 \\\\\n",
        "\\vdots & \\ddots & \\ddots & \\vdots \\\\\n",
        "0 & 0 & \\cdots & \\sigma_{d-1}\n",
        "\\end{pmatrix}$\n",
        "\n",
        "In the next cell, calculate the empirical average and variances over a certain number of batches:"
      ],
      "metadata": {
        "id": "NWpucm972i7j"
      }
    },
    {
      "cell_type": "code",
      "metadata": {
        "id": "sUXHCtvW2iQ0",
        "colab": {
          "base_uri": "https://localhost:8080/"
        },
        "outputId": "9dd8a410-8a39-4483-f390-78523fa6ac39"
      },
      "source": [
        "n_batches = np.floor( len(mnist_train_loader.dataset.indices)/batch_size ).astype(int)\n",
        "\n",
        "z_average = torch.zeros(n_batches,ae_model.z_dim)\n",
        "z_sigma = torch.zeros(n_batches,ae_model.z_dim)\n",
        "\n",
        "for batch_idx, (data, _) in enumerate(mnist_train_loader):\n",
        "  z = ae_model.encoder(data)\n",
        "  z_average[batch_idx,:] = torch.mean(z, dim=0) # FILL IN CODE HERE\n",
        "  z_sigma[batch_idx,:] = torch.std(z, dim=0) # FILL IN CODE HERE\n",
        "\n",
        "z_average = torch.mean(z_average, dim=0) # FILL IN CODE HERE\n",
        "z_sigma = torch.mean(z_sigma, dim=0) # FILL IN CODE HERE\n",
        "\n",
        "print(\"Average of latent codes:\",z_average)\n",
        "print(\"Standard deviation of latent codes:\",z_sigma)"
      ],
      "execution_count": null,
      "outputs": [
        {
          "output_type": "stream",
          "name": "stdout",
          "text": [
            "Average of latent codes: tensor([10.5474,  6.3882,  0.4618,  9.5931,  4.3546,  2.4633,  1.5425, -4.8232,\n",
            "        -1.3636, 11.0317], grad_fn=<MeanBackward1>)\n",
            "Standard deviation of latent codes: tensor([ 9.5161,  7.3447,  9.4129,  8.1971,  6.8576,  7.6451,  5.4486, 10.0012,\n",
            "         7.8876,  8.4290], grad_fn=<MeanBackward1>)\n"
          ]
        }
      ]
    },
    {
      "cell_type": "markdown",
      "source": [
        "Now, in the next cell generate data with this simple generative model using the approach described above. Display these images with the ``display_images`` function. \n",
        "\n",
        "__NB__ You do not actually have to define the matrix $\\bf{L}$ in this case, an element-wise multiplication of two (properly chosen) vectors will suffice. To generate multivariate normal random variables you can use the following Pytorch function:\n",
        "\n",
        "- ```torch.randn```\n"
      ],
      "metadata": {
        "id": "Lrpc62ML9K4l"
      }
    },
    {
      "cell_type": "code",
      "source": [
        "def generate_images_diagonal_gaussian(ae_model,z_average,z_sigma,n_images = 5):\n",
        "\n",
        "  epsilon = torch.randn(n_images, ae_model.z_dim) # FILL IN CODE HERE\n",
        "  z_generated = z_average + z_sigma * epsilon # FILL IN CODE HERE\n",
        "  imgs_generated = ae_model.decoder(z_generated) # FILL IN CODE HERE\n",
        "  return(imgs_generated)\n",
        "\n",
        "imgs_generated = generate_images_diagonal_gaussian(ae_model,z_average,z_sigma,n_images=5)\n",
        "display_images(imgs_generated)"
      ],
      "metadata": {
        "id": "1_Tekii-9QEo",
        "colab": {
          "base_uri": "https://localhost:8080/",
          "height": 122
        },
        "outputId": "959880ed-9f70-4efd-e86f-44b3faf8d43a"
      },
      "execution_count": null,
      "outputs": [
        {
          "output_type": "display_data",
          "data": {
            "text/plain": [
              "<Figure size 640x480 with 5 Axes>"
            ],
            "image/png": "[encoded data removed]"
          },
          "metadata": {}
        }
      ]
    },
    {
      "cell_type": "markdown",
      "source": [
        "As you should be able to see, these results are not that good. Let's try a slightly more sophisticated model."
      ],
      "metadata": {
        "id": "xiNaEgLIloeA"
      }
    },
    {
      "cell_type": "markdown",
      "source": [
        "## 2.1 Non-diagonal Gaussian model\n",
        "\n",
        "The second model uses a non-diagonal covariance matrix $\\bf{C}$ in the multivariate Gaussian distribution. In the next cell, calculate the average and covariance matrix over several batches of latent codes.\n",
        "\n",
        "__NB__ You can use the ```torch.cov``` function. Make sure to put the data in the right format for this (see documentation : https://pytorch.org/docs/stable/generated/torch.cov.html)."
      ],
      "metadata": {
        "id": "WjVPfkRKYMSh"
      }
    },
    {
      "cell_type": "code",
      "source": [
        "n_batches = np.floor( len(mnist_train_loader.dataset.indices)/batch_size ).astype(int)\n",
        "\n",
        "z_average = torch.zeros(n_batches,ae_model.z_dim)\n",
        "z_covariance = torch.zeros(n_batches,ae_model.z_dim,ae_model.z_dim)\n",
        "\n",
        "for batch_idx, (data, _) in enumerate(mnist_train_loader):\n",
        "  z = ae_model.encoder(data)\n",
        "  z_average[batch_idx,:] = torch.mean(z_average, dim=0) # FILL IN CODE HERE\n",
        "  z_covariance[batch_idx,:,:] = torch.cov(z.T) # FILL IN CODE HERE\n",
        "\n",
        "z_average = z_average.mean(dim=0) # FILL IN CODE HERE\n",
        "z_covariance = z_covariance.mean(dim=0) # FILL IN CODE HERE\n",
        "\n",
        "print(\"Average of latent codes:\",z_average)\n",
        "print(\"Covariance matrix of latent codes:\",z_covariance)"
      ],
      "metadata": {
        "id": "ArXgre39CD2H",
        "colab": {
          "base_uri": "https://localhost:8080/"
        },
        "outputId": "410a2703-126c-49c3-cf46-85af4475f6be"
      },
      "execution_count": null,
      "outputs": [
        {
          "output_type": "stream",
          "name": "stdout",
          "text": [
            "Average of latent codes: tensor([0., 0., 0., 0., 0., 0., 0., 0., 0., 0.])\n",
            "Covariance matrix of latent codes: tensor([[ 89.9435, -17.2559, -11.5861,   9.6120, -15.8291,  -9.9935,   1.8553,\n",
            "         -22.4982,  -6.7196,  37.4442],\n",
            "        [-17.2559,  54.0715,   8.4740, -27.4222, -17.2369,   5.2530,  -0.9578,\n",
            "          -2.6919,  -2.3635,   2.8505],\n",
            "        [-11.5861,   8.4740,  88.9375,  -9.2288,  -1.4420,  17.1774,  12.1353,\n",
            "          25.6716, -11.3995, -15.7912],\n",
            "        [  9.6120, -27.4222,  -9.2288,  66.0729,   7.0621,  -4.7666,  10.6506,\n",
            "           7.9605, -12.0029,  22.6559],\n",
            "        [-15.8291, -17.2369,  -1.4420,   7.0621,  47.4326,   6.2987,   0.6436,\n",
            "           2.5746,   8.7195, -18.7370],\n",
            "        [ -9.9935,   5.2530,  17.1774,  -4.7666,   6.2987,  60.0581, -16.4691,\n",
            "          -7.1982,  28.8485, -15.5621],\n",
            "        [  1.8553,  -0.9578,  12.1353,  10.6506,   0.6436, -16.4691,  30.9252,\n",
            "          12.5077, -15.1622,  -3.7821],\n",
            "        [-22.4982,  -2.6919,  25.6716,   7.9605,   2.5746,  -7.1982,  12.5077,\n",
            "         101.7970,  -1.1394, -10.7232],\n",
            "        [ -6.7196,  -2.3635, -11.3995, -12.0029,   8.7195,  28.8485, -15.1622,\n",
            "          -1.1394,  62.0691,  -3.0551],\n",
            "        [ 37.4442,   2.8505, -15.7912,  22.6559, -18.7370, -15.5621,  -3.7821,\n",
            "         -10.7232,  -3.0551,  70.6799]], grad_fn=<MeanBackward1>)\n"
          ]
        }
      ]
    },
    {
      "cell_type": "markdown",
      "source": [
        "Now, generate some samples with this distribution. In this case, you will actually have to calculate the Cholesky decomposition and find $\\bf{L}$. For this, you can use \n",
        "\n",
        "- ```torch.linalg.cholesky```\n",
        "\n",
        "In this model, you will need to carry out matrix multiplication over a batch of latent codes, which is a bit more complicated than the previous naïve model (which used element-wise vector multiplication). So you have two options:\n",
        "\n",
        "- copy the matrix $\\bf{L}$ several times and carry out batch matrix multiplication\n",
        "- simply loop and carry out normal matrix multiplication to produce each image (this has the disadvantage of not taking advantage of any parallelisation, but it should not matter too much).\n",
        "\n",
        "In the first case, you can use the following functions:\n",
        "\n",
        "- ```torch.bmm```\n",
        "- ```torch.tile```\n",
        "\n",
        "Fill in the function to generate images using this model now:"
      ],
      "metadata": {
        "id": "JhXU8cnTZ0E8"
      }
    },
    {
      "cell_type": "code",
      "source": [
        "def generate_images_non_diagonal_gaussian(ae_model,z_average,z_covariance,n_images = 5):\n",
        "\n",
        "  #calcualte Cholesky decomposition of covariance matrix : C = L L^T\n",
        "  # Make sure that the first dimension is the batch dimension (with batch size n_images)\n",
        "  # You can use the torch.unsqueeze function for this\n",
        "  L = torch.linalg.cholesky(z_covariance) # FILL IN CODE HERE\n",
        "  L = L.tile(n_images, 1, 1)\n",
        "\n",
        "  epsilon = torch.randn(n_images, ae_model.z_dim, 1) # FILL IN CODE HERE\n",
        "  z_generated = z_average + torch.bmm(L, epsilon).view(n_images, ae_model.z_dim) # FILL IN CODE HERE\n",
        "  imgs_generated = ae_model.decoder(z_generated) # FILL IN CODE HERE\n",
        "  return(imgs_generated)\n",
        "\n",
        "\n",
        "imgs_generated = generate_images_non_diagonal_gaussian(ae_model,z_average,z_covariance,n_images = 5)\n",
        "display_images(imgs_generated)"
      ],
      "metadata": {
        "id": "zXGlJTZ7Z4ed",
        "colab": {
          "base_uri": "https://localhost:8080/",
          "height": 122
        },
        "outputId": "487f2b9b-d339-4430-99cb-587c25ead48b"
      },
      "execution_count": null,
      "outputs": [
        {
          "output_type": "display_data",
          "data": {
            "text/plain": [
              "<Figure size 640x480 with 5 Axes>"
            ],
            "image/png": "[encoded data removed]"
          },
          "metadata": {}
        }
      ]
    },
    {
      "cell_type": "markdown",
      "source": [
        "You should see some improvement, but we can do better than this. Thus, we turn to the variational autoencoder."
      ],
      "metadata": {
        "id": "qLtsdri6zKEm"
      }
    },
    {
      "cell_type": "markdown",
      "source": [
        "# 3/ Variational autoencoder\n",
        "\n",
        "Now, we are going to create an variational autoencoder to carry out __image generation__. Let's first recall the idea of a variational autoencoder\n",
        "\n",
        "## Main idea\n",
        "\n",
        "The main idea is to create an autoencoder whose latent codes follow a certain distribution (a Gaussian distribution in practice). This is done with two tools : \n",
        "\n",
        "- A specific architecture, where the encoder produces the average and variance of the latent codes\n",
        "- A specially designed loss function\n",
        "\n",
        "Once the VAE is trained, it is possible to sample in the latent space by producing random normal variables and simply decoding.\n",
        "\n",
        "## Architecture\n",
        "\n",
        "The architecture of the VAE model is as follows:\n",
        "\n",
        "The encoder consists of:\n",
        "\n",
        "Encoder :\n",
        "- Flatten input\n",
        "- Dense layer $+$ ReLU\n",
        "- Dense layer $+$ ReLU\n",
        "- Dense layer (no non-linarity) to produce the average, Dense layer (no non-linarity) to produce the variance (these last two layers are in parallel)\n",
        "\n",
        "Decoder :\n",
        "- Dense layer $+$ ReLU\n",
        "- Dense layer $+$ ReLU\n",
        "- Dense layer $+$ Sigmoid Activation\n",
        "- Reshape, to size $28\\times 28\\times 1$\n",
        "\n",
        "\n",
        "## Variational Autoencoder loss\n",
        "\n",
        "Recall that for the VAE, the loss function is in fact a function to __maximise__. In fact, for implementation, you will see that it is easier to __minimise__ $-\\mathcal{L}$.\n",
        "\n",
        "In the case of an image which is represented by a set of __Bernoulli__ variables (which is relevant for mnist), the original loss function (to maximise) is written :\n",
        "\n",
        "\n",
        "\\begin{align}\n",
        "\\mathcal{L} &= \\log\\left(p_\\theta(x|z)\\right) - KL\\left( q_\\phi(z|x) \\; || \\; p_\\theta(z)\\right) \\\\\n",
        "    &= \\left(\\sum_{i} x_i \\log y_i + (1-x_i) \\log (1-y_i)\\right) - \\left(\\frac{1}{2} \\sum_j \\left( \\sigma_j^2 + \\mu_j^2 - \\log \\sigma_j^2 -1 \\right)\\right)\n",
        "\\end{align}\n",
        "\n",
        "\n",
        "where $i$ is summed over the image pixels, and $j$ is summed over the elements of the latent space. $\\sigma_j^2$ is the $j$th element of the latent space variance, and $\\mu_j$ is the $j$th element of the latent space mean.\n",
        "\n",
        "The left part of the loss (reconstruction error) can be implemented simply as the binary cross-entropy between the input x and the output y. Since we are __maximising__ $-$[binary cross-entropy] (look at the formula), this is equivalent to minimising the binary cross-entropy.\n",
        "\n",
        "For the right part of the equation (KL divergence), you need to implement it manually. \n",
        "\n",
        "The final loss is the average, over the batch size, of the sum of the reconstruction error (left part) and the KL divergence (right part). Be careful, in the formula, the sums over $i$ and $j$ are over the number of pixels and the number of latent elements, respectively. To achieve a sum rather than an average, you can use ```torch.nn.BCELoss(reduction='sum')()```, and the ```torch.sum()``` functions.\n",
        "\n",
        "As in the case of the normal autoencoder, you will need to flatten and then reshape the tensors at the beginning/end of the network."
      ],
      "metadata": {
        "id": "8UqeNhuSdnDt"
      }
    },
    {
      "cell_type": "code",
      "source": [
        "class VAE(torch.nn.Module ):\n",
        "  def __init__(self, x_dim, h_dim1, h_dim2, z_dim,n_rows,n_cols,n_channels):\n",
        "    super(VAE, self).__init__()\n",
        "\n",
        "    self.n_rows = n_rows\n",
        "    self.n_cols = n_cols\n",
        "    self.n_channels = n_channels\n",
        "    self.n_pixels = (self.n_rows)*(self.n_cols)\n",
        "    self.z_dim = z_dim\n",
        "\n",
        "    # encoder part\n",
        "    self.fc1 = nn.Linear(x_dim, h_dim1) # FILL IN CODE HERE\n",
        "    self.fc2 = nn.Linear(h_dim1, h_dim2) # FILL IN CODE HERE\n",
        "    self.fc31 = nn.Linear(h_dim2, z_dim) # FILL IN CODE HERE\n",
        "    self.fc32 = nn.Linear(h_dim2, z_dim) # FILL IN CODE HERE\n",
        "    # decoder part\n",
        "    self.fc4 = nn.Linear(z_dim, h_dim2) # FILL IN CODE HERE\n",
        "    self.fc5 = nn.Linear(h_dim2, h_dim1) # FILL IN CODE HERE\n",
        "    self.fc6 = nn.Linear(h_dim1, x_dim) # FILL IN CODE HERE\n",
        "\n",
        "  def encoder(self, x):\n",
        "    x = x.view(-1, self.n_pixels)\n",
        "    h = F.relu(self.fc1(x)) # FILL IN CODE HERE\n",
        "    h = F.relu(self.fc2(h)) # FILL IN CODE HERE\n",
        "    return self.fc31(h), self.fc32(h) # FILL IN CODE HERE # mu, log_var\n",
        "  def decoder(self, z):\n",
        "    h = F.relu(self.fc4(z)) # FILL IN CODE HERE\n",
        "    h = F.relu(self.fc5(h)) # FILL IN CODE HERE\n",
        "    h = torch.sigmoid(self.fc6(h))\n",
        "    h = h.view(-1, 1, self.n_rows, self.n_cols)\n",
        "    return h # FILL IN CODE HERE\n",
        "\n",
        "  def sampling(self, mu, log_var):\n",
        "    # this function samples a Gaussian distribution, with average (mu) and standard deviation specified (using log_var)\n",
        "    std = torch.exp(log_var/2) # = torch.sqrt(torch.exp(log_var)) # FILL IN CODE HERE\n",
        "    eps = torch.randn_like(std) # FILL IN CODE HERE\n",
        "    return eps.mul(std).add_(mu) # return z sample\n",
        "\n",
        "  def forward(self, x):\n",
        "    z_mu, z_log_var = self.encoder(x)\n",
        "    z = self.sampling(z_mu, z_log_var)\n",
        "    return self.decoder(z),z_mu, z_log_var\n",
        "\n",
        "  def loss_function(self,x, y, mu, log_var):\n",
        "    reconstruction_error = nn.BCELoss(reduction='sum')(y, x) # FILL IN CODE HERE\n",
        "   \n",
        "    KLD = 0.5 * torch.sum(torch.exp(log_var) + mu ** 2 - log_var -1) # FILL IN CODE HERE\n",
        "\n",
        "    return (reconstruction_error + KLD) / x.size(0) # FILL IN CODE HERE"
      ],
      "metadata": {
        "id": "6siMHQLheM4T"
      },
      "execution_count": null,
      "outputs": []
    },
    {
      "cell_type": "markdown",
      "source": [
        "Now, create the model (similarly as above)"
      ],
      "metadata": {
        "id": "hk_9fDIphlsi"
      }
    },
    {
      "cell_type": "code",
      "source": [
        "# create model\n",
        "vae_dim_1 = ae_dim_1\n",
        "vae_dim_2 = ae_dim_2\n",
        "vae_model = VAE(x_dim=n_pixels, h_dim1= vae_dim_1, h_dim2=vae_dim_2, z_dim=z_dim,n_rows=n_rows,n_cols=n_cols,n_channels=n_channels)\n",
        "vae_optimizer = optim.Adam(vae_model.parameters())"
      ],
      "metadata": {
        "id": "pVlpC2R3htyU"
      },
      "execution_count": null,
      "outputs": []
    },
    {
      "cell_type": "markdown",
      "source": [
        "Finally, train the model. First modify the training function to the case of the vae."
      ],
      "metadata": {
        "id": "NYKLF_oMh5HO"
      }
    },
    {
      "cell_type": "code",
      "source": [
        "def train_vae(vae_model,data_train_loader,epoch):\n",
        "  train_loss = 0\n",
        "  for batch_idx, (data, _) in enumerate(data_train_loader):\n",
        "    vae_optimizer.zero_grad()\n",
        "\n",
        "    y, z_mu, z_log_var = vae_model(data)# FILL IN CODE HERE\n",
        "    loss_vae = vae_model.loss_function(data, y, z_mu, z_log_var) # FILL IN CODE HERE\n",
        "    loss_vae.backward()\n",
        "    train_loss += loss_vae.item()\n",
        "    vae_optimizer.step() \n",
        "\t\t\n",
        "    if batch_idx % 100 == 0:\n",
        "      print('Train Epoch: {} [{}/{} ({:.0f}%)]\\tLoss: {:.6f}'.format(\n",
        "      epoch, batch_idx * len(data), len(data_train_loader.dataset),\n",
        "      100. * batch_idx / len(data_train_loader), loss_vae.item() / len(data)))\n",
        "  print('====> Epoch: {} Average loss: {:.4f}'.format(epoch, train_loss / len(data_train_loader.dataset)))\n"
      ],
      "metadata": {
        "id": "z6DjKTWmmssb"
      },
      "execution_count": null,
      "outputs": []
    },
    {
      "cell_type": "code",
      "source": [
        "# now train the model\n",
        "for epoch in range(0, n_epochs):\n",
        "  train_vae(vae_model,mnist_train_loader,epoch)"
      ],
      "metadata": {
        "id": "L9JUUs6Kh8HB",
        "colab": {
          "base_uri": "https://localhost:8080/"
        },
        "outputId": "2328afaf-ece7-4304-a846-41d369c52a6a"
      },
      "execution_count": null,
      "outputs": [
        {
          "output_type": "stream",
          "name": "stdout",
          "text": [
            "Train Epoch: 0 [0/1000 (0%)]\tLoss: 4.259415\n",
            "====> Epoch: 0 Average loss: 3.2199\n",
            "Train Epoch: 1 [0/1000 (0%)]\tLoss: 2.342175\n",
            "====> Epoch: 1 Average loss: 1.7991\n",
            "Train Epoch: 2 [0/1000 (0%)]\tLoss: 1.716355\n",
            "====> Epoch: 2 Average loss: 1.5315\n",
            "Train Epoch: 3 [0/1000 (0%)]\tLoss: 1.707947\n",
            "====> Epoch: 3 Average loss: 1.4758\n",
            "Train Epoch: 4 [0/1000 (0%)]\tLoss: 1.606889\n",
            "====> Epoch: 4 Average loss: 1.4739\n",
            "Train Epoch: 5 [0/1000 (0%)]\tLoss: 1.632761\n",
            "====> Epoch: 5 Average loss: 1.4509\n",
            "Train Epoch: 6 [0/1000 (0%)]\tLoss: 1.666374\n",
            "====> Epoch: 6 Average loss: 1.4395\n",
            "Train Epoch: 7 [0/1000 (0%)]\tLoss: 1.551007\n",
            "====> Epoch: 7 Average loss: 1.4270\n",
            "Train Epoch: 8 [0/1000 (0%)]\tLoss: 1.603999\n",
            "====> Epoch: 8 Average loss: 1.4163\n",
            "Train Epoch: 9 [0/1000 (0%)]\tLoss: 1.589974\n",
            "====> Epoch: 9 Average loss: 1.4069\n",
            "Train Epoch: 10 [0/1000 (0%)]\tLoss: 1.609740\n",
            "====> Epoch: 10 Average loss: 1.3904\n",
            "Train Epoch: 11 [0/1000 (0%)]\tLoss: 1.566622\n",
            "====> Epoch: 11 Average loss: 1.3839\n",
            "Train Epoch: 12 [0/1000 (0%)]\tLoss: 1.526756\n",
            "====> Epoch: 12 Average loss: 1.3634\n",
            "Train Epoch: 13 [0/1000 (0%)]\tLoss: 1.542410\n",
            "====> Epoch: 13 Average loss: 1.3659\n",
            "Train Epoch: 14 [0/1000 (0%)]\tLoss: 1.535082\n",
            "====> Epoch: 14 Average loss: 1.3504\n",
            "Train Epoch: 15 [0/1000 (0%)]\tLoss: 1.405581\n",
            "====> Epoch: 15 Average loss: 1.3409\n",
            "Train Epoch: 16 [0/1000 (0%)]\tLoss: 1.445943\n",
            "====> Epoch: 16 Average loss: 1.3221\n",
            "Train Epoch: 17 [0/1000 (0%)]\tLoss: 1.480642\n",
            "====> Epoch: 17 Average loss: 1.3137\n",
            "Train Epoch: 18 [0/1000 (0%)]\tLoss: 1.451777\n",
            "====> Epoch: 18 Average loss: 1.2881\n",
            "Train Epoch: 19 [0/1000 (0%)]\tLoss: 1.496802\n",
            "====> Epoch: 19 Average loss: 1.2841\n",
            "Train Epoch: 20 [0/1000 (0%)]\tLoss: 1.384890\n",
            "====> Epoch: 20 Average loss: 1.2703\n",
            "Train Epoch: 21 [0/1000 (0%)]\tLoss: 1.420860\n",
            "====> Epoch: 21 Average loss: 1.2620\n",
            "Train Epoch: 22 [0/1000 (0%)]\tLoss: 1.378534\n",
            "====> Epoch: 22 Average loss: 1.2498\n",
            "Train Epoch: 23 [0/1000 (0%)]\tLoss: 1.409688\n",
            "====> Epoch: 23 Average loss: 1.2345\n",
            "Train Epoch: 24 [0/1000 (0%)]\tLoss: 1.380385\n",
            "====> Epoch: 24 Average loss: 1.2149\n",
            "Train Epoch: 25 [0/1000 (0%)]\tLoss: 1.306732\n",
            "====> Epoch: 25 Average loss: 1.1967\n",
            "Train Epoch: 26 [0/1000 (0%)]\tLoss: 1.322947\n",
            "====> Epoch: 26 Average loss: 1.1796\n",
            "Train Epoch: 27 [0/1000 (0%)]\tLoss: 1.255340\n",
            "====> Epoch: 27 Average loss: 1.1660\n",
            "Train Epoch: 28 [0/1000 (0%)]\tLoss: 1.289869\n",
            "====> Epoch: 28 Average loss: 1.1509\n",
            "Train Epoch: 29 [0/1000 (0%)]\tLoss: 1.301784\n",
            "====> Epoch: 29 Average loss: 1.1364\n",
            "Train Epoch: 30 [0/1000 (0%)]\tLoss: 1.284189\n",
            "====> Epoch: 30 Average loss: 1.1206\n",
            "Train Epoch: 31 [0/1000 (0%)]\tLoss: 1.207806\n",
            "====> Epoch: 31 Average loss: 1.1095\n",
            "Train Epoch: 32 [0/1000 (0%)]\tLoss: 1.263011\n",
            "====> Epoch: 32 Average loss: 1.0906\n",
            "Train Epoch: 33 [0/1000 (0%)]\tLoss: 1.200097\n",
            "====> Epoch: 33 Average loss: 1.0857\n",
            "Train Epoch: 34 [0/1000 (0%)]\tLoss: 1.181840\n",
            "====> Epoch: 34 Average loss: 1.0724\n",
            "Train Epoch: 35 [0/1000 (0%)]\tLoss: 1.169355\n",
            "====> Epoch: 35 Average loss: 1.0590\n",
            "Train Epoch: 36 [0/1000 (0%)]\tLoss: 1.191707\n",
            "====> Epoch: 36 Average loss: 1.0453\n",
            "Train Epoch: 37 [0/1000 (0%)]\tLoss: 1.183505\n",
            "====> Epoch: 37 Average loss: 1.0532\n",
            "Train Epoch: 38 [0/1000 (0%)]\tLoss: 1.139637\n",
            "====> Epoch: 38 Average loss: 1.0353\n",
            "Train Epoch: 39 [0/1000 (0%)]\tLoss: 1.165721\n",
            "====> Epoch: 39 Average loss: 1.0293\n",
            "Train Epoch: 40 [0/1000 (0%)]\tLoss: 1.168409\n",
            "====> Epoch: 40 Average loss: 1.0209\n",
            "Train Epoch: 41 [0/1000 (0%)]\tLoss: 1.146575\n",
            "====> Epoch: 41 Average loss: 1.0166\n",
            "Train Epoch: 42 [0/1000 (0%)]\tLoss: 1.141741\n",
            "====> Epoch: 42 Average loss: 1.0100\n",
            "Train Epoch: 43 [0/1000 (0%)]\tLoss: 1.096304\n",
            "====> Epoch: 43 Average loss: 1.0000\n",
            "Train Epoch: 44 [0/1000 (0%)]\tLoss: 1.098479\n",
            "====> Epoch: 44 Average loss: 0.9863\n",
            "Train Epoch: 45 [0/1000 (0%)]\tLoss: 1.098460\n",
            "====> Epoch: 45 Average loss: 0.9861\n",
            "Train Epoch: 46 [0/1000 (0%)]\tLoss: 1.081991\n",
            "====> Epoch: 46 Average loss: 0.9831\n",
            "Train Epoch: 47 [0/1000 (0%)]\tLoss: 1.086792\n",
            "====> Epoch: 47 Average loss: 0.9639\n",
            "Train Epoch: 48 [0/1000 (0%)]\tLoss: 1.098999\n",
            "====> Epoch: 48 Average loss: 0.9653\n",
            "Train Epoch: 49 [0/1000 (0%)]\tLoss: 1.070456\n",
            "====> Epoch: 49 Average loss: 0.9563\n",
            "Train Epoch: 50 [0/1000 (0%)]\tLoss: 1.111542\n",
            "====> Epoch: 50 Average loss: 0.9559\n",
            "Train Epoch: 51 [0/1000 (0%)]\tLoss: 1.035601\n",
            "====> Epoch: 51 Average loss: 0.9489\n",
            "Train Epoch: 52 [0/1000 (0%)]\tLoss: 1.059996\n",
            "====> Epoch: 52 Average loss: 0.9451\n",
            "Train Epoch: 53 [0/1000 (0%)]\tLoss: 1.042199\n",
            "====> Epoch: 53 Average loss: 0.9359\n",
            "Train Epoch: 54 [0/1000 (0%)]\tLoss: 1.049056\n",
            "====> Epoch: 54 Average loss: 0.9291\n",
            "Train Epoch: 55 [0/1000 (0%)]\tLoss: 1.059391\n",
            "====> Epoch: 55 Average loss: 0.9321\n",
            "Train Epoch: 56 [0/1000 (0%)]\tLoss: 1.053073\n",
            "====> Epoch: 56 Average loss: 0.9205\n",
            "Train Epoch: 57 [0/1000 (0%)]\tLoss: 0.973130\n",
            "====> Epoch: 57 Average loss: 0.9172\n",
            "Train Epoch: 58 [0/1000 (0%)]\tLoss: 0.999964\n",
            "====> Epoch: 58 Average loss: 0.9120\n",
            "Train Epoch: 59 [0/1000 (0%)]\tLoss: 0.970585\n",
            "====> Epoch: 59 Average loss: 0.9036\n",
            "Train Epoch: 60 [0/1000 (0%)]\tLoss: 0.976014\n",
            "====> Epoch: 60 Average loss: 0.8982\n",
            "Train Epoch: 61 [0/1000 (0%)]\tLoss: 0.943058\n",
            "====> Epoch: 61 Average loss: 0.8888\n",
            "Train Epoch: 62 [0/1000 (0%)]\tLoss: 0.948657\n",
            "====> Epoch: 62 Average loss: 0.8903\n",
            "Train Epoch: 63 [0/1000 (0%)]\tLoss: 0.979591\n",
            "====> Epoch: 63 Average loss: 0.8833\n",
            "Train Epoch: 64 [0/1000 (0%)]\tLoss: 1.015383\n",
            "====> Epoch: 64 Average loss: 0.8793\n",
            "Train Epoch: 65 [0/1000 (0%)]\tLoss: 0.991362\n",
            "====> Epoch: 65 Average loss: 0.8686\n",
            "Train Epoch: 66 [0/1000 (0%)]\tLoss: 0.959016\n",
            "====> Epoch: 66 Average loss: 0.8697\n",
            "Train Epoch: 67 [0/1000 (0%)]\tLoss: 1.009246\n",
            "====> Epoch: 67 Average loss: 0.8700\n",
            "Train Epoch: 68 [0/1000 (0%)]\tLoss: 0.950314\n",
            "====> Epoch: 68 Average loss: 0.8619\n",
            "Train Epoch: 69 [0/1000 (0%)]\tLoss: 0.935999\n",
            "====> Epoch: 69 Average loss: 0.8595\n",
            "Train Epoch: 70 [0/1000 (0%)]\tLoss: 0.938917\n",
            "====> Epoch: 70 Average loss: 0.8589\n",
            "Train Epoch: 71 [0/1000 (0%)]\tLoss: 0.947683\n",
            "====> Epoch: 71 Average loss: 0.8586\n",
            "Train Epoch: 72 [0/1000 (0%)]\tLoss: 0.930443\n",
            "====> Epoch: 72 Average loss: 0.8480\n",
            "Train Epoch: 73 [0/1000 (0%)]\tLoss: 0.977497\n",
            "====> Epoch: 73 Average loss: 0.8578\n",
            "Train Epoch: 74 [0/1000 (0%)]\tLoss: 0.951879\n",
            "====> Epoch: 74 Average loss: 0.8547\n",
            "Train Epoch: 75 [0/1000 (0%)]\tLoss: 0.931282\n",
            "====> Epoch: 75 Average loss: 0.8499\n",
            "Train Epoch: 76 [0/1000 (0%)]\tLoss: 0.926998\n",
            "====> Epoch: 76 Average loss: 0.8408\n",
            "Train Epoch: 77 [0/1000 (0%)]\tLoss: 0.940111\n",
            "====> Epoch: 77 Average loss: 0.8422\n",
            "Train Epoch: 78 [0/1000 (0%)]\tLoss: 0.948355\n",
            "====> Epoch: 78 Average loss: 0.8441\n",
            "Train Epoch: 79 [0/1000 (0%)]\tLoss: 0.894530\n",
            "====> Epoch: 79 Average loss: 0.8367\n",
            "Train Epoch: 80 [0/1000 (0%)]\tLoss: 0.962642\n",
            "====> Epoch: 80 Average loss: 0.8391\n",
            "Train Epoch: 81 [0/1000 (0%)]\tLoss: 0.948788\n",
            "====> Epoch: 81 Average loss: 0.8361\n",
            "Train Epoch: 82 [0/1000 (0%)]\tLoss: 0.933716\n",
            "====> Epoch: 82 Average loss: 0.8295\n",
            "Train Epoch: 83 [0/1000 (0%)]\tLoss: 0.905026\n",
            "====> Epoch: 83 Average loss: 0.8242\n",
            "Train Epoch: 84 [0/1000 (0%)]\tLoss: 0.908695\n",
            "====> Epoch: 84 Average loss: 0.8238\n",
            "Train Epoch: 85 [0/1000 (0%)]\tLoss: 0.947679\n",
            "====> Epoch: 85 Average loss: 0.8253\n",
            "Train Epoch: 86 [0/1000 (0%)]\tLoss: 0.923583\n",
            "====> Epoch: 86 Average loss: 0.8264\n",
            "Train Epoch: 87 [0/1000 (0%)]\tLoss: 0.936736\n",
            "====> Epoch: 87 Average loss: 0.8195\n",
            "Train Epoch: 88 [0/1000 (0%)]\tLoss: 0.887815\n",
            "====> Epoch: 88 Average loss: 0.8201\n",
            "Train Epoch: 89 [0/1000 (0%)]\tLoss: 0.867937\n",
            "====> Epoch: 89 Average loss: 0.8175\n",
            "Train Epoch: 90 [0/1000 (0%)]\tLoss: 0.876857\n",
            "====> Epoch: 90 Average loss: 0.8082\n",
            "Train Epoch: 91 [0/1000 (0%)]\tLoss: 0.925908\n",
            "====> Epoch: 91 Average loss: 0.8101\n",
            "Train Epoch: 92 [0/1000 (0%)]\tLoss: 0.886703\n",
            "====> Epoch: 92 Average loss: 0.8099\n",
            "Train Epoch: 93 [0/1000 (0%)]\tLoss: 0.860657\n",
            "====> Epoch: 93 Average loss: 0.8055\n",
            "Train Epoch: 94 [0/1000 (0%)]\tLoss: 0.899320\n",
            "====> Epoch: 94 Average loss: 0.8032\n",
            "Train Epoch: 95 [0/1000 (0%)]\tLoss: 0.898704\n",
            "====> Epoch: 95 Average loss: 0.8015\n",
            "Train Epoch: 96 [0/1000 (0%)]\tLoss: 0.900717\n",
            "====> Epoch: 96 Average loss: 0.8024\n",
            "Train Epoch: 97 [0/1000 (0%)]\tLoss: 0.888826\n",
            "====> Epoch: 97 Average loss: 0.8011\n",
            "Train Epoch: 98 [0/1000 (0%)]\tLoss: 0.872376\n",
            "====> Epoch: 98 Average loss: 0.7960\n",
            "Train Epoch: 99 [0/1000 (0%)]\tLoss: 0.869112\n",
            "====> Epoch: 99 Average loss: 0.7999\n",
            "Train Epoch: 100 [0/1000 (0%)]\tLoss: 0.878841\n",
            "====> Epoch: 100 Average loss: 0.7940\n",
            "Train Epoch: 101 [0/1000 (0%)]\tLoss: 0.909778\n",
            "====> Epoch: 101 Average loss: 0.7924\n",
            "Train Epoch: 102 [0/1000 (0%)]\tLoss: 0.896551\n",
            "====> Epoch: 102 Average loss: 0.7922\n",
            "Train Epoch: 103 [0/1000 (0%)]\tLoss: 0.882518\n",
            "====> Epoch: 103 Average loss: 0.7896\n",
            "Train Epoch: 104 [0/1000 (0%)]\tLoss: 0.904832\n",
            "====> Epoch: 104 Average loss: 0.7905\n",
            "Train Epoch: 105 [0/1000 (0%)]\tLoss: 0.912470\n",
            "====> Epoch: 105 Average loss: 0.7876\n",
            "Train Epoch: 106 [0/1000 (0%)]\tLoss: 0.886516\n",
            "====> Epoch: 106 Average loss: 0.7842\n",
            "Train Epoch: 107 [0/1000 (0%)]\tLoss: 0.870261\n",
            "====> Epoch: 107 Average loss: 0.7859\n",
            "Train Epoch: 108 [0/1000 (0%)]\tLoss: 0.855189\n",
            "====> Epoch: 108 Average loss: 0.7833\n",
            "Train Epoch: 109 [0/1000 (0%)]\tLoss: 0.849784\n",
            "====> Epoch: 109 Average loss: 0.7724\n",
            "Train Epoch: 110 [0/1000 (0%)]\tLoss: 0.848574\n",
            "====> Epoch: 110 Average loss: 0.7755\n",
            "Train Epoch: 111 [0/1000 (0%)]\tLoss: 0.840748\n",
            "====> Epoch: 111 Average loss: 0.7746\n",
            "Train Epoch: 112 [0/1000 (0%)]\tLoss: 0.897936\n",
            "====> Epoch: 112 Average loss: 0.7765\n",
            "Train Epoch: 113 [0/1000 (0%)]\tLoss: 0.893309\n",
            "====> Epoch: 113 Average loss: 0.7739\n",
            "Train Epoch: 114 [0/1000 (0%)]\tLoss: 0.876613\n",
            "====> Epoch: 114 Average loss: 0.7729\n",
            "Train Epoch: 115 [0/1000 (0%)]\tLoss: 0.826964\n",
            "====> Epoch: 115 Average loss: 0.7665\n",
            "Train Epoch: 116 [0/1000 (0%)]\tLoss: 0.876478\n",
            "====> Epoch: 116 Average loss: 0.7687\n",
            "Train Epoch: 117 [0/1000 (0%)]\tLoss: 0.877216\n",
            "====> Epoch: 117 Average loss: 0.7645\n",
            "Train Epoch: 118 [0/1000 (0%)]\tLoss: 0.856509\n",
            "====> Epoch: 118 Average loss: 0.7631\n",
            "Train Epoch: 119 [0/1000 (0%)]\tLoss: 0.824838\n",
            "====> Epoch: 119 Average loss: 0.7644\n",
            "Train Epoch: 120 [0/1000 (0%)]\tLoss: 0.860827\n",
            "====> Epoch: 120 Average loss: 0.7623\n",
            "Train Epoch: 121 [0/1000 (0%)]\tLoss: 0.841083\n",
            "====> Epoch: 121 Average loss: 0.7615\n",
            "Train Epoch: 122 [0/1000 (0%)]\tLoss: 0.872206\n",
            "====> Epoch: 122 Average loss: 0.7576\n",
            "Train Epoch: 123 [0/1000 (0%)]\tLoss: 0.812791\n",
            "====> Epoch: 123 Average loss: 0.7586\n",
            "Train Epoch: 124 [0/1000 (0%)]\tLoss: 0.836763\n",
            "====> Epoch: 124 Average loss: 0.7587\n",
            "Train Epoch: 125 [0/1000 (0%)]\tLoss: 0.849999\n",
            "====> Epoch: 125 Average loss: 0.7569\n",
            "Train Epoch: 126 [0/1000 (0%)]\tLoss: 0.848034\n",
            "====> Epoch: 126 Average loss: 0.7552\n",
            "Train Epoch: 127 [0/1000 (0%)]\tLoss: 0.798248\n",
            "====> Epoch: 127 Average loss: 0.7554\n",
            "Train Epoch: 128 [0/1000 (0%)]\tLoss: 0.838935\n",
            "====> Epoch: 128 Average loss: 0.7533\n",
            "Train Epoch: 129 [0/1000 (0%)]\tLoss: 0.827502\n",
            "====> Epoch: 129 Average loss: 0.7498\n",
            "Train Epoch: 130 [0/1000 (0%)]\tLoss: 0.824120\n",
            "====> Epoch: 130 Average loss: 0.7488\n",
            "Train Epoch: 131 [0/1000 (0%)]\tLoss: 0.850474\n",
            "====> Epoch: 131 Average loss: 0.7496\n",
            "Train Epoch: 132 [0/1000 (0%)]\tLoss: 0.804599\n",
            "====> Epoch: 132 Average loss: 0.7427\n",
            "Train Epoch: 133 [0/1000 (0%)]\tLoss: 0.800933\n",
            "====> Epoch: 133 Average loss: 0.7399\n",
            "Train Epoch: 134 [0/1000 (0%)]\tLoss: 0.771105\n",
            "====> Epoch: 134 Average loss: 0.7428\n",
            "Train Epoch: 135 [0/1000 (0%)]\tLoss: 0.840174\n",
            "====> Epoch: 135 Average loss: 0.7403\n",
            "Train Epoch: 136 [0/1000 (0%)]\tLoss: 0.812341\n",
            "====> Epoch: 136 Average loss: 0.7434\n",
            "Train Epoch: 137 [0/1000 (0%)]\tLoss: 0.814169\n",
            "====> Epoch: 137 Average loss: 0.7363\n",
            "Train Epoch: 138 [0/1000 (0%)]\tLoss: 0.823247\n",
            "====> Epoch: 138 Average loss: 0.7375\n",
            "Train Epoch: 139 [0/1000 (0%)]\tLoss: 0.832887\n",
            "====> Epoch: 139 Average loss: 0.7331\n",
            "Train Epoch: 140 [0/1000 (0%)]\tLoss: 0.801165\n",
            "====> Epoch: 140 Average loss: 0.7354\n",
            "Train Epoch: 141 [0/1000 (0%)]\tLoss: 0.824720\n",
            "====> Epoch: 141 Average loss: 0.7334\n",
            "Train Epoch: 142 [0/1000 (0%)]\tLoss: 0.824604\n",
            "====> Epoch: 142 Average loss: 0.7330\n",
            "Train Epoch: 143 [0/1000 (0%)]\tLoss: 0.808580\n",
            "====> Epoch: 143 Average loss: 0.7287\n",
            "Train Epoch: 144 [0/1000 (0%)]\tLoss: 0.828398\n",
            "====> Epoch: 144 Average loss: 0.7249\n",
            "Train Epoch: 145 [0/1000 (0%)]\tLoss: 0.810507\n",
            "====> Epoch: 145 Average loss: 0.7278\n",
            "Train Epoch: 146 [0/1000 (0%)]\tLoss: 0.825469\n",
            "====> Epoch: 146 Average loss: 0.7282\n",
            "Train Epoch: 147 [0/1000 (0%)]\tLoss: 0.805206\n",
            "====> Epoch: 147 Average loss: 0.7241\n",
            "Train Epoch: 148 [0/1000 (0%)]\tLoss: 0.830316\n",
            "====> Epoch: 148 Average loss: 0.7217\n",
            "Train Epoch: 149 [0/1000 (0%)]\tLoss: 0.800516\n",
            "====> Epoch: 149 Average loss: 0.7223\n"
          ]
        }
      ]
    },
    {
      "cell_type": "markdown",
      "source": [
        "Now, generate some images with the VAE model"
      ],
      "metadata": {
        "id": "uTfRje_AkKDr"
      }
    },
    {
      "cell_type": "code",
      "source": [
        "def generate_images_vae(vae_model,n_images = 5):\n",
        "\n",
        "  epsilon = torch.randn(n_images, vae_model.z_dim) # FILL IN CODE HERE\n",
        "  imgs_generated = vae_model.decoder(epsilon) # FILL IN CODE HERE\n",
        "  return(imgs_generated)\n",
        "\n",
        "imgs_generated = generate_images_vae(vae_model,n_images=5)\n",
        "display_images(imgs_generated)"
      ],
      "metadata": {
        "id": "41tXdNsFkKk5",
        "colab": {
          "base_uri": "https://localhost:8080/",
          "height": 122
        },
        "outputId": "fd26048e-8e85-4939-b972-cf0aafb2f6c8"
      },
      "execution_count": null,
      "outputs": [
        {
          "output_type": "display_data",
          "data": {
            "text/plain": [
              "<Figure size 640x480 with 5 Axes>"
            ],
            "image/png": "[encoded data removed]"
          },
          "metadata": {}
        }
      ]
    },
    {
      "cell_type": "markdown",
      "source": [
        "Do you think the results are better ? What difference can you see ? What advantage does the Variational Autoencoder have over the simple autoencoder model, even though the second autoencoder approach has a more complex probabilistic latent model (a full covariance matrix) ?"
      ],
      "metadata": {
        "id": "lGnvKoynzaFN"
      }
    },
    {
      "cell_type": "markdown",
      "source": [
        "__Answer__\n",
        "\n",
        "I find the results far better, we can distinctly perceive the wanted number.The Variational Autoencoder allows us to chose the distribution in the latent space. Therefore, the obtained images with VA are more natural (there is just blurring) while using the other methods create images more 'decomposed'."
      ],
      "metadata": {
        "id": "uuYn3_PBzjkI"
      }
    },
    {
      "cell_type": "markdown",
      "source": [
        "We will now compare the models quantitavely."
      ],
      "metadata": {
        "id": "uXm-D9Ef9vYm"
      }
    },
    {
      "cell_type": "markdown",
      "source": [
        "# 3 Evaluating and comparing the models\n",
        "\n",
        "We will evaluate the models, in the following manner:\n",
        "\n",
        "- we train a simple convolutional neural network classifier on mnist, to a good accuracy\n",
        "- we generate images with each model\n",
        "- we find the average of the highest probability of the images according to the classifier, for each model. If this value is high, it means that on average the classifier considers that the images look like a \n",
        "\n",
        "We will use the following convoluional architecture for the classifier:\n",
        "\n",
        "- conv2d, filter size  3×3 , 32 filters, stride=(2,2), padding=\"SAME\"\n",
        "- ReLU\n",
        "- conv2d, filter size  3×3 , 32 filters, stride=(2,2), padding=\"SAME\"\n",
        "- ReLU\n",
        "- MaxPool2D, stride=(2,2)\n",
        "- Flatten\n",
        "- Dense layer\n",
        "\n",
        "Now, define the model. To make things easier, use the ```torch.nn.Sequential``` API (there is no need for a Class in this simple case)."
      ],
      "metadata": {
        "id": "04MddkzuE324"
      }
    },
    {
      "cell_type": "code",
      "source": [
        "learning_rate = 0.01\n",
        "n_epochs = 20\n",
        "batch_size = 64\n",
        "nb_classes = int(mnist_trainset.targets.max()+1)\n",
        "\n",
        "# number of convolutional filters to use\n",
        "nb_filters = 32\n",
        "# convolution kernel size\n",
        "kernel_size = (3, 3)\n",
        "# size of pooling area for max pooling\n",
        "pool_size = (2, 2)\n",
        "\n",
        "# --- Size of the successive layers\n",
        "n_h_0 = 1 #greyscale input images\n",
        "n_h_1 = nb_filters\n",
        "n_h_2 = nb_filters\n",
        "\n",
        "mnist_classification_model = nn.Sequential(\n",
        "    nn.Conv2d(1, nb_filters, kernel_size=3, stride=2, padding=1),\n",
        "    nn.ReLU(),\n",
        "    nn.Conv2d(nb_filters, nb_filters, kernel_size=3, stride=2, padding=1),\n",
        "    nn.ReLU(),\n",
        "    nn.MaxPool2d(kernel_size=2, stride=2),\n",
        "    nn.Flatten(),\n",
        "    nn.Linear(288, 10)\n",
        ") # FILL IN CODE HERE\n",
        "\n",
        "criterion = nn.CrossEntropyLoss() # FILL IN CODE HERE\n",
        "optimizer = torch.optim.Adam(mnist_classification_model.parameters(), lr=learning_rate)"
      ],
      "metadata": {
        "id": "P87a-DkXFOCv"
      },
      "execution_count": null,
      "outputs": []
    },
    {
      "cell_type": "markdown",
      "source": [
        "Create a function to calculate accuracy, instead of loss"
      ],
      "metadata": {
        "id": "_sUZONxw2bnt"
      }
    },
    {
      "cell_type": "code",
      "source": [
        "def get_accuracy(x_pred,x_label):\n",
        "  acc = torch.sum(x_pred == x_label)/(x_pred.shape[0])\n",
        "  return acc"
      ],
      "metadata": {
        "id": "aOww0ydr2fT0"
      },
      "execution_count": null,
      "outputs": []
    },
    {
      "cell_type": "markdown",
      "source": [
        "Now, train the model. You should be able to achieve an accuracy close to 1.00 within 20 epochs"
      ],
      "metadata": {
        "id": "qw0vkZIqFcse"
      }
    },
    {
      "cell_type": "code",
      "source": [
        "train_losses=[]\n",
        "valid_losses=[]\n",
        "\n",
        "for epoch in range(0,n_epochs):\n",
        "  train_loss=0.0\n",
        "\n",
        "  for batch_idx, (imgs, labels) in enumerate(mnist_train_loader):\n",
        "\n",
        "    # set the gradients back to 0\n",
        "    optimizer.zero_grad()\n",
        "    predict=mnist_classification_model(imgs)\n",
        "    # apply loss function\n",
        "    loss=criterion(predict,labels)\n",
        "    acc = get_accuracy(torch.argmax(predict,dim=1),labels)\n",
        "    # backpropagation\n",
        "    loss.backward()\n",
        "    optimizer.step()\n",
        "    train_loss=loss.item()\n",
        "  print('Epoch:{} Train Loss:{:.4f} Accuracy:{:.4f}'.format(epoch,train_loss/imgs.shape[0],acc))"
      ],
      "metadata": {
        "id": "0FA8YoX2FcHP",
        "colab": {
          "base_uri": "https://localhost:8080/"
        },
        "outputId": "5b489ff5-decf-422f-ec96-02cd6bba279a"
      },
      "execution_count": null,
      "outputs": [
        {
          "output_type": "stream",
          "name": "stdout",
          "text": [
            "Epoch:0 Train Loss:0.0169 Accuracy:0.2734\n",
            "Epoch:1 Train Loss:0.0109 Accuracy:0.5703\n",
            "Epoch:2 Train Loss:0.0078 Accuracy:0.6484\n",
            "Epoch:3 Train Loss:0.0049 Accuracy:0.8203\n",
            "Epoch:4 Train Loss:0.0040 Accuracy:0.8438\n",
            "Epoch:5 Train Loss:0.0042 Accuracy:0.8125\n",
            "Epoch:6 Train Loss:0.0029 Accuracy:0.8906\n",
            "Epoch:7 Train Loss:0.0016 Accuracy:0.9531\n",
            "Epoch:8 Train Loss:0.0017 Accuracy:0.9531\n",
            "Epoch:9 Train Loss:0.0021 Accuracy:0.9141\n",
            "Epoch:10 Train Loss:0.0012 Accuracy:0.9609\n",
            "Epoch:11 Train Loss:0.0011 Accuracy:0.9453\n",
            "Epoch:12 Train Loss:0.0012 Accuracy:0.9609\n",
            "Epoch:13 Train Loss:0.0013 Accuracy:0.9219\n",
            "Epoch:14 Train Loss:0.0009 Accuracy:0.9688\n",
            "Epoch:15 Train Loss:0.0004 Accuracy:0.9844\n",
            "Epoch:16 Train Loss:0.0006 Accuracy:0.9766\n",
            "Epoch:17 Train Loss:0.0005 Accuracy:0.9844\n",
            "Epoch:18 Train Loss:0.0003 Accuracy:0.9922\n",
            "Epoch:19 Train Loss:0.0001 Accuracy:1.0000\n"
          ]
        }
      ]
    },
    {
      "cell_type": "markdown",
      "source": [
        "### Evaluate the average maximum prediction of the images generated by each generative model (higher is better)\n",
        "\n",
        "Now, we will evaluate the models. For each ones, produce a certain number of images, and put those images through the classification network. Then find the maximum class probability of each image, and average it over all the images. We will use this as a metric to evaluate each model.\n",
        "\n",
        "__CAREFUL__: the output of the network does __not__ include the Softmax layer, so you will have to carry it out, with:\n",
        "- ```torch.nn.Softmax()(...)```\n",
        "\n",
        "Define this metric now:"
      ],
      "metadata": {
        "id": "zFgN5LblFwTa"
      }
    },
    {
      "cell_type": "code",
      "source": [
        "def generative_model_score(imgs_in,classification_model):\n",
        "  output = classification_model(imgs_in)\n",
        "  output = nn.Softmax(dim=1)(output)\n",
        "  max_prob, _ = torch.max(output, dim=1)\n",
        "  gen_score = torch.mean(max_prob) # FILL IN CODE HERE\n",
        "  return(gen_score)"
      ],
      "metadata": {
        "id": "lCJ_0qqjOXHT"
      },
      "execution_count": null,
      "outputs": []
    },
    {
      "cell_type": "markdown",
      "source": [
        "Now, generate some images with each of the three models, and evaluate these models:"
      ],
      "metadata": {
        "id": "yGq7YFg51UoP"
      }
    },
    {
      "cell_type": "code",
      "source": [
        "imgs_diagonal_gaussian = generate_images_diagonal_gaussian(ae_model,z_average,z_sigma,n_images = 50)\n",
        "imgs_non_diagonal_gaussian = generate_images_non_diagonal_gaussian(ae_model,z_average,z_covariance,n_images = 50)\n",
        "imgs_vae = generate_images_vae(vae_model,n_images=50)\n",
        "\n",
        "# average of maximum of first model \n",
        "diagonal_gaussian_score = float(generative_model_score(imgs_diagonal_gaussian,mnist_classification_model))\n",
        "non_diagonal_gaussian_score = float(generative_model_score(imgs_non_diagonal_gaussian,mnist_classification_model))\n",
        "vae_gaussian_score = float(generative_model_score(imgs_vae,mnist_classification_model))\n",
        "\n",
        "print(\"Diagonal gaussian generative model score : \",diagonal_gaussian_score)\n",
        "print(\"Non diagonal gaussian generative model score : \",non_diagonal_gaussian_score)\n",
        "print(\"Variational autoencoder model score: \",vae_gaussian_score) "
      ],
      "metadata": {
        "id": "4-L4u2jhILFx",
        "colab": {
          "base_uri": "https://localhost:8080/"
        },
        "outputId": "e5697260-1ab5-46a4-8a90-4c3d886c8e93"
      },
      "execution_count": null,
      "outputs": [
        {
          "output_type": "stream",
          "name": "stdout",
          "text": [
            "Diagonal gaussian generative model score :  0.8597766757011414\n",
            "Non diagonal gaussian generative model score :  0.8876751065254211\n",
            "Variational autoencoder model score:  0.8585690259933472\n"
          ]
        }
      ]
    },
    {
      "cell_type": "markdown",
      "source": [
        "Please answer the following questions:\n",
        "\n",
        "- Which model is better quantitatively ? \n",
        "- Do the quantitative result support the qualitative results ?\n",
        "- Can you see any drawbacks of this method of evaluation ?\n",
        "- Can you propose any more sophisticated models than the multivariate Gaussian approach (apart from the variational autoencoder) ? "
      ],
      "metadata": {
        "id": "sxvsG8FC1gNS"
      }
    },
    {
      "cell_type": "markdown",
      "source": [
        "__Answer__\n",
        "\n",
        "Quantitavely, the model with non diagnonal matrix obtained better score and VA obtains a score as good as the score obtained with the model using diagonal covariance matrix. However, qualitatively we can tell without any doubt that the VA is the better one. \n",
        "\n",
        "I think the problem is that the autoencoder methods gives an image that enables better the simple DL model to understand it because they are only based on intensity and images are built using a way empirical. "
      ],
      "metadata": {
        "id": "3SYCyfKR3G7Y"
      }
    }
  ]
}